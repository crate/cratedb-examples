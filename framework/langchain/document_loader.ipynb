{
 "cells": [
  {
   "cell_type": "markdown",
   "metadata": {},
   "source": [
    "# SQLAlchemy\n",
    "\n",
    "This notebook demonstrates how to load documents from a [CrateDB] database,\n",
    "using the document loader `CrateDBLoader`, which is based on [SQLAlchemy].\n",
    "\n",
    "It loads the result of a database query with one document per row.\n",
    "\n",
    "[CrateDB]: https://github.com/crate/crate\n",
    "[SQLAlchemy]: https://www.sqlalchemy.org/"
   ]
  },
  {
   "cell_type": "markdown",
   "source": [
    "## Prerequisites\n",
    "\n",
    "Install required packages."
   ],
   "metadata": {
    "collapsed": false
   }
  },
  {
   "cell_type": "code",
   "execution_count": 40,
   "metadata": {
    "tags": []
   },
   "outputs": [],
   "source": [
    "#!pip install -r requirements.txt"
   ]
  },
  {
   "cell_type": "markdown",
   "source": [
    "Populate database."
   ],
   "metadata": {
    "collapsed": false
   }
  },
  {
   "cell_type": "code",
   "execution_count": 21,
   "metadata": {
    "tags": []
   },
   "outputs": [
    {
     "name": "stdout",
     "output_type": "stream",
     "text": [
      "\u001B[32mCONNECT OK\r\n",
      "\u001B[0m\u001B[32mPSQL OK, 1 row affected (0.001 sec)\r\n",
      "\u001B[0m\u001B[32mDELETE OK, 30 rows affected (0.010 sec)\r\n",
      "\u001B[0m\u001B[32mINSERT OK, 30 rows affected (0.011 sec)\r\n",
      "\u001B[0m\u001B[0m\u001B[32mCONNECT OK\r\n",
      "\u001B[0m\u001B[32mREFRESH OK, 1 row affected (0.026 sec)\r\n",
      "\u001B[0m\u001B[0m"
     ]
    }
   ],
   "source": [
    "!rm -f mlb_teams_2012.sql\n",
    "!wget --quiet https://github.com/crate-workbench/langchain/raw/cratedb/docs/docs/integrations/document_loaders/example_data/mlb_teams_2012.sql\n",
    "\n",
    "!crash --schema=notebook < mlb_teams_2012.sql;\n",
    "!crash --schema=notebook --command \"REFRESH TABLE mlb_teams_2012;\""
   ]
  },
  {
   "cell_type": "markdown",
   "source": [
    "## Usage"
   ],
   "metadata": {
    "collapsed": false
   }
  },
  {
   "cell_type": "code",
   "execution_count": 13,
   "metadata": {
    "tags": []
   },
   "outputs": [],
   "source": [
    "from langchain.document_loaders.cratedb import CrateDBLoader\n",
    "from pprint import pprint\n",
    "\n",
    "CONNECTION_STRING = \"crate://crate@localhost/?schema=notebook\"\n",
    "\n",
    "loader = CrateDBLoader(\n",
    "    'SELECT * FROM mlb_teams_2012 ORDER BY \"Team\" LIMIT 5;',\n",
    "    url=CONNECTION_STRING,\n",
    ")\n",
    "documents = loader.load()"
   ]
  },
  {
   "cell_type": "code",
   "execution_count": 14,
   "metadata": {
    "tags": []
   },
   "outputs": [
    {
     "name": "stdout",
     "output_type": "stream",
     "text": [
      "[Document(page_content='Team: Angels\\nPayroll (millions): 154.49\\nWins: 89', metadata={}),\n",
      " Document(page_content='Team: Astros\\nPayroll (millions): 60.65\\nWins: 55', metadata={}),\n",
      " Document(page_content='Team: Athletics\\nPayroll (millions): 55.37\\nWins: 94', metadata={}),\n",
      " Document(page_content='Team: Blue Jays\\nPayroll (millions): 75.48\\nWins: 73', metadata={}),\n",
      " Document(page_content='Team: Braves\\nPayroll (millions): 83.31\\nWins: 94', metadata={})]\n"
     ]
    }
   ],
   "source": [
    "pprint(documents)"
   ]
  },
  {
   "cell_type": "markdown",
   "metadata": {},
   "source": [
    "## Specifying Which Columns are Content vs Metadata"
   ]
  },
  {
   "cell_type": "code",
   "execution_count": 15,
   "metadata": {},
   "outputs": [],
   "source": [
    "loader = CrateDBLoader(\n",
    "    'SELECT * FROM mlb_teams_2012 ORDER BY \"Team\" LIMIT 5;',\n",
    "    url=CONNECTION_STRING,\n",
    "    page_content_columns=[\"Team\"],\n",
    "    metadata_columns=[\"Payroll (millions)\"],\n",
    ")\n",
    "documents = loader.load()"
   ]
  },
  {
   "cell_type": "code",
   "execution_count": 16,
   "metadata": {},
   "outputs": [
    {
     "name": "stdout",
     "output_type": "stream",
     "text": [
      "[Document(page_content='Team: Angels', metadata={'Payroll (millions)': 154.49}),\n",
      " Document(page_content='Team: Astros', metadata={'Payroll (millions)': 60.65}),\n",
      " Document(page_content='Team: Athletics', metadata={'Payroll (millions)': 55.37}),\n",
      " Document(page_content='Team: Blue Jays', metadata={'Payroll (millions)': 75.48}),\n",
      " Document(page_content='Team: Braves', metadata={'Payroll (millions)': 83.31})]\n"
     ]
    }
   ],
   "source": [
    "pprint(documents)"
   ]
  },
  {
   "cell_type": "markdown",
   "metadata": {},
   "source": [
    "## Adding Source to Metadata"
   ]
  },
  {
   "cell_type": "code",
   "execution_count": 17,
   "metadata": {},
   "outputs": [],
   "source": [
    "loader = CrateDBLoader(\n",
    "    'SELECT * FROM mlb_teams_2012 ORDER BY \"Team\" LIMIT 5;',\n",
    "    url=CONNECTION_STRING,\n",
    "    source_columns=[\"Team\"],\n",
    ")\n",
    "documents = loader.load()"
   ]
  },
  {
   "cell_type": "code",
   "execution_count": 18,
   "metadata": {},
   "outputs": [
    {
     "name": "stdout",
     "output_type": "stream",
     "text": [
      "[Document(page_content='Team: Angels\\nPayroll (millions): 154.49\\nWins: 89', metadata={'source': 'Angels'}),\n",
      " Document(page_content='Team: Astros\\nPayroll (millions): 60.65\\nWins: 55', metadata={'source': 'Astros'}),\n",
      " Document(page_content='Team: Athletics\\nPayroll (millions): 55.37\\nWins: 94', metadata={'source': 'Athletics'}),\n",
      " Document(page_content='Team: Blue Jays\\nPayroll (millions): 75.48\\nWins: 73', metadata={'source': 'Blue Jays'}),\n",
      " Document(page_content='Team: Braves\\nPayroll (millions): 83.31\\nWins: 94', metadata={'source': 'Braves'})]\n"
     ]
    }
   ],
   "source": [
    "pprint(documents)"
   ]
  }
 ],
 "metadata": {
  "kernelspec": {
   "display_name": "Python 3 (ipykernel)",
   "language": "python",
   "name": "python3"
  },
  "language_info": {
   "codemirror_mode": {
    "name": "ipython",
    "version": 3
   },
   "file_extension": ".py",
   "mimetype": "text/x-python",
   "name": "python",
   "nbconvert_exporter": "python",
   "pygments_lexer": "ipython3",
   "version": "3.10.6"
  }
 },
 "nbformat": 4,
 "nbformat_minor": 4
}
