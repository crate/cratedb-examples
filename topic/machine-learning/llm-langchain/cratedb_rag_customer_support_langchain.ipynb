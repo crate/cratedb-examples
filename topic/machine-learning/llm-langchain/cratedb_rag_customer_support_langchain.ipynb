{
 "cells": [
  {
   "cell_type": "markdown",
   "metadata": {
    "id": "rUPQQ-jlMkUd"
   },
   "source": [
    "Retrieval-Augmented Generation (RAG) combines a retrieval system, which fetches relevant documents, with a generative model, allowing it to incorporate external knowledge for more accurate and informed responses. This notebook shows how to use the CrateDB vector store functionality to create a retrieval augmented generation (RAG) pipeline."
   ]
  },
  {
   "cell_type": "markdown",
   "metadata": {
    "id": "Pe-5yxFDMl0S"
   },
   "source": [
    "## What is CrateDB?\n",
    "\n",
    "CrateDB is an open-source, distributed, and scalable SQL analytics database for storing and analyzing massive amounts of data in near real-time, even with complex queries. It is wire-compatible to PostgreSQL, based on Lucene, and inherits the shared-nothing distribution layer of Elasticsearch.\n",
    "\n",
    "This example uses the Python client driver for CrateDB and vector store support in LangChain."
   ]
  },
  {
   "cell_type": "markdown",
   "metadata": {
    "id": "rE-UtZJnMs2q"
   },
   "source": [
    "## Getting Started\n",
    "CrateDB supports storing vectors since version 5.5. You can leverage the fully managed service of CrateDB Cloud, or install CrateDB on your own, for example using Docker.\n",
    "\n",
    "```shell\n",
    "docker run --publish 4200:4200 --publish 5432:5432 --pull=always crate:latest -Cdiscovery.type=single-node\n",
    "```\n",
    "\n",
    "## Setup\n",
    "\n",
    "Install required Python packages, and import Python modules."
   ]
  },
  {
   "cell_type": "code",
   "execution_count": 1,
   "metadata": {
    "colab": {
     "base_uri": "https://localhost:8080/"
    },
    "id": "RJyP1GEXNHUy",
    "outputId": "9c62258f-f6a1-4578-ced4-40f15f586e9a"
   },
   "outputs": [
    {
     "name": "stdout",
     "output_type": "stream",
     "text": [
      "Collecting langchain@ git+https://github.com/crate-workbench/langchain.git@cratedb#subdirectory=libs/langchain (from langchain[cratedb,openai]@ git+https://github.com/crate-workbench/langchain.git@cratedb#subdirectory=libs/langchain->-r requirements.txt (line 17))\n",
      "  Cloning https://github.com/crate-workbench/langchain.git (to revision cratedb) to /private/var/folders/3f/htk34xrs62d0jxkjddpz35qc0000gn/T/pip-install-xz119_ob/langchain_9590a3e7f7484f648de0d811086d8e7c\n",
      "  Running command git clone --filter=blob:none --quiet https://github.com/crate-workbench/langchain.git /private/var/folders/3f/htk34xrs62d0jxkjddpz35qc0000gn/T/pip-install-xz119_ob/langchain_9590a3e7f7484f648de0d811086d8e7c\n",
      "  Resolved https://github.com/crate-workbench/langchain.git to commit 5df2429aa2fec83b424cf21bc190f8bc9c36845b\n",
      "  Installing build dependencies ... \u001b[?25ldone\n",
      "\u001b[?25h  Getting requirements to build wheel ... \u001b[?25ldone\n",
      "\u001b[?25h  Preparing metadata (pyproject.toml) ... \u001b[?25ldone\n",
      "\u001b[?25hCollecting langchain-community@ git+https://github.com/crate-workbench/langchain.git@cratedb#subdirectory=libs/community (from -r requirements.txt (line 18))\n",
      "  Cloning https://github.com/crate-workbench/langchain.git (to revision cratedb) to /private/var/folders/3f/htk34xrs62d0jxkjddpz35qc0000gn/T/pip-install-xz119_ob/langchain-community_6ba38b38738a48bfb9f485a33e88c70d\n",
      "  Running command git clone --filter=blob:none --quiet https://github.com/crate-workbench/langchain.git /private/var/folders/3f/htk34xrs62d0jxkjddpz35qc0000gn/T/pip-install-xz119_ob/langchain-community_6ba38b38738a48bfb9f485a33e88c70d\n",
      "  Resolved https://github.com/crate-workbench/langchain.git to commit 5df2429aa2fec83b424cf21bc190f8bc9c36845b\n",
      "  Installing build dependencies ... \u001b[?25ldone\n",
      "\u001b[?25h  Getting requirements to build wheel ... \u001b[?25ldone\n",
      "\u001b[?25h  Preparing metadata (pyproject.toml) ... \u001b[?25ldone\n",
      "\u001b[?25hRequirement already satisfied: crash in /opt/homebrew/lib/python3.10/site-packages (from -r requirements.txt (line 2)) (0.29.0)\n",
      "Requirement already satisfied: cratedb-toolkit==0.0.3 in /opt/homebrew/lib/python3.10/site-packages (from -r requirements.txt (line 4)) (0.0.3)\n",
      "Requirement already satisfied: pueblo>=0.0.6 in /opt/homebrew/lib/python3.10/site-packages (from pueblo[cli,fileio,nlp]>=0.0.6->-r requirements.txt (line 8)) (0.0.6)\n",
      "Requirement already satisfied: pydantic<3,>=1 in /opt/homebrew/lib/python3.10/site-packages (from -r requirements.txt (line 9)) (1.10.12)\n",
      "Requirement already satisfied: pypdf<4 in /opt/homebrew/lib/python3.10/site-packages (from -r requirements.txt (line 10)) (3.16.1)\n",
      "Requirement already satisfied: python-dotenv<2 in /opt/homebrew/lib/python3.10/site-packages (from -r requirements.txt (line 11)) (1.0.0)\n",
      "Requirement already satisfied: requests-cache<2 in /opt/homebrew/lib/python3.10/site-packages (from -r requirements.txt (line 12)) (1.1.1)\n",
      "Requirement already satisfied: unstructured<0.11 in /opt/homebrew/lib/python3.10/site-packages (from -r requirements.txt (line 13)) (0.10.30)\n",
      "Requirement already satisfied: crate[sqlalchemy] in /opt/homebrew/lib/python3.10/site-packages (from -r requirements.txt (line 3)) (0.34.0)\n",
      "Requirement already satisfied: boltons<24 in /opt/homebrew/lib/python3.10/site-packages (from cratedb-toolkit==0.0.3->-r requirements.txt (line 4)) (23.1.1)\n",
      "Requirement already satisfied: click<9 in /opt/homebrew/lib/python3.10/site-packages (from cratedb-toolkit==0.0.3->-r requirements.txt (line 4)) (8.1.7)\n",
      "Requirement already satisfied: click-aliases<2,>=1.0.4 in /opt/homebrew/lib/python3.10/site-packages (from cratedb-toolkit==0.0.3->-r requirements.txt (line 4)) (1.0.4)\n",
      "Requirement already satisfied: colorama<1 in /opt/homebrew/lib/python3.10/site-packages (from cratedb-toolkit==0.0.3->-r requirements.txt (line 4)) (0.4.6)\n",
      "Requirement already satisfied: colorlog in /opt/homebrew/lib/python3.10/site-packages (from cratedb-toolkit==0.0.3->-r requirements.txt (line 4)) (6.8.0)\n",
      "Requirement already satisfied: croud==1.10.0 in /opt/homebrew/lib/python3.10/site-packages (from cratedb-toolkit==0.0.3->-r requirements.txt (line 4)) (1.10.0)\n",
      "Requirement already satisfied: sqlalchemy in /opt/homebrew/lib/python3.10/site-packages (from cratedb-toolkit==0.0.3->-r requirements.txt (line 4)) (2.0.0)\n",
      "Requirement already satisfied: sqlparse<0.5 in /opt/homebrew/lib/python3.10/site-packages (from cratedb-toolkit==0.0.3->-r requirements.txt (line 4)) (0.4.4)\n",
      "Requirement already satisfied: appdirs==1.4.4 in /opt/homebrew/lib/python3.10/site-packages (from croud==1.10.0->cratedb-toolkit==0.0.3->-r requirements.txt (line 4)) (1.4.4)\n",
      "Requirement already satisfied: bitmath==1.3.3.1 in /opt/homebrew/lib/python3.10/site-packages (from croud==1.10.0->cratedb-toolkit==0.0.3->-r requirements.txt (line 4)) (1.3.3.1)\n",
      "Requirement already satisfied: certifi in /opt/homebrew/lib/python3.10/site-packages (from croud==1.10.0->cratedb-toolkit==0.0.3->-r requirements.txt (line 4)) (2022.12.7)\n",
      "Requirement already satisfied: marshmallow==3.20.1 in /opt/homebrew/lib/python3.10/site-packages (from croud==1.10.0->cratedb-toolkit==0.0.3->-r requirements.txt (line 4)) (3.20.1)\n",
      "Requirement already satisfied: pyyaml==6.0.1 in /opt/homebrew/lib/python3.10/site-packages (from croud==1.10.0->cratedb-toolkit==0.0.3->-r requirements.txt (line 4)) (6.0.1)\n",
      "Requirement already satisfied: requests==2.31.0 in /opt/homebrew/lib/python3.10/site-packages (from croud==1.10.0->cratedb-toolkit==0.0.3->-r requirements.txt (line 4)) (2.31.0)\n",
      "Requirement already satisfied: tabulate<1.0,>=0.8 in /opt/homebrew/lib/python3.10/site-packages (from croud==1.10.0->cratedb-toolkit==0.0.3->-r requirements.txt (line 4)) (0.9.0)\n",
      "Requirement already satisfied: yarl==1.9.3 in /opt/homebrew/lib/python3.10/site-packages (from croud==1.10.0->cratedb-toolkit==0.0.3->-r requirements.txt (line 4)) (1.9.3)\n",
      "Requirement already satisfied: halo==0.0.31 in /opt/homebrew/lib/python3.10/site-packages (from croud==1.10.0->cratedb-toolkit==0.0.3->-r requirements.txt (line 4)) (0.0.31)\n",
      "Requirement already satisfied: shtab==1.6.4 in /opt/homebrew/lib/python3.10/site-packages (from croud==1.10.0->cratedb-toolkit==0.0.3->-r requirements.txt (line 4)) (1.6.4)\n",
      "Requirement already satisfied: tqdm==4.66.1 in /opt/homebrew/lib/python3.10/site-packages (from croud==1.10.0->cratedb-toolkit==0.0.3->-r requirements.txt (line 4)) (4.66.1)\n",
      "Requirement already satisfied: log-symbols>=0.0.14 in /opt/homebrew/lib/python3.10/site-packages (from halo==0.0.31->croud==1.10.0->cratedb-toolkit==0.0.3->-r requirements.txt (line 4)) (0.0.14)\n",
      "Requirement already satisfied: spinners>=0.0.24 in /opt/homebrew/lib/python3.10/site-packages (from halo==0.0.31->croud==1.10.0->cratedb-toolkit==0.0.3->-r requirements.txt (line 4)) (0.0.24)\n",
      "Requirement already satisfied: termcolor>=1.1.0 in /opt/homebrew/lib/python3.10/site-packages (from halo==0.0.31->croud==1.10.0->cratedb-toolkit==0.0.3->-r requirements.txt (line 4)) (2.3.0)\n",
      "Requirement already satisfied: six>=1.12.0 in /opt/homebrew/lib/python3.10/site-packages (from halo==0.0.31->croud==1.10.0->cratedb-toolkit==0.0.3->-r requirements.txt (line 4)) (1.16.0)\n",
      "Requirement already satisfied: packaging>=17.0 in /opt/homebrew/lib/python3.10/site-packages (from marshmallow==3.20.1->croud==1.10.0->cratedb-toolkit==0.0.3->-r requirements.txt (line 4)) (23.2)\n",
      "Requirement already satisfied: charset-normalizer<4,>=2 in /opt/homebrew/lib/python3.10/site-packages (from requests==2.31.0->croud==1.10.0->cratedb-toolkit==0.0.3->-r requirements.txt (line 4)) (3.1.0)\n",
      "Requirement already satisfied: idna<4,>=2.5 in /opt/homebrew/lib/python3.10/site-packages (from requests==2.31.0->croud==1.10.0->cratedb-toolkit==0.0.3->-r requirements.txt (line 4)) (3.4)\n",
      "Requirement already satisfied: urllib3<3,>=1.21.1 in /opt/homebrew/lib/python3.10/site-packages (from requests==2.31.0->croud==1.10.0->cratedb-toolkit==0.0.3->-r requirements.txt (line 4)) (1.26.13)\n",
      "Requirement already satisfied: multidict>=4.0 in /opt/homebrew/lib/python3.10/site-packages (from yarl==1.9.3->croud==1.10.0->cratedb-toolkit==0.0.3->-r requirements.txt (line 4)) (6.0.4)\n",
      "Requirement already satisfied: Pygments<3,>=2.4 in /opt/homebrew/lib/python3.10/site-packages (from crash->-r requirements.txt (line 2)) (2.13.0)\n",
      "Requirement already satisfied: platformdirs<3 in /opt/homebrew/lib/python3.10/site-packages (from crash->-r requirements.txt (line 2)) (2.6.2)\n",
      "Requirement already satisfied: prompt-toolkit<4,>=3.0 in /opt/homebrew/lib/python3.10/site-packages (from crash->-r requirements.txt (line 2)) (3.0.38)\n",
      "Requirement already satisfied: geojson<4,>=2.5.0 in /opt/homebrew/lib/python3.10/site-packages (from crate[sqlalchemy]->-r requirements.txt (line 3)) (3.0.1)\n",
      "Requirement already satisfied: contextlib-chdir in /opt/homebrew/lib/python3.10/site-packages (from pueblo>=0.0.6->pueblo[cli,fileio,nlp]>=0.0.6->-r requirements.txt (line 8)) (1.0.2)\n"
     ]
    },
    {
     "name": "stdout",
     "output_type": "stream",
     "text": [
      "Requirement already satisfied: typing-extensions>=4.2.0 in /opt/homebrew/lib/python3.10/site-packages (from pydantic<3,>=1->-r requirements.txt (line 9)) (4.9.0)\n",
      "Requirement already satisfied: attrs>=21.2 in /opt/homebrew/lib/python3.10/site-packages (from requests-cache<2->-r requirements.txt (line 12)) (23.1.0)\n",
      "Requirement already satisfied: cattrs>=22.2 in /opt/homebrew/lib/python3.10/site-packages (from requests-cache<2->-r requirements.txt (line 12)) (23.2.3)\n",
      "Requirement already satisfied: url-normalize>=1.4 in /opt/homebrew/lib/python3.10/site-packages (from requests-cache<2->-r requirements.txt (line 12)) (1.4.3)\n",
      "Requirement already satisfied: chardet in /opt/homebrew/lib/python3.10/site-packages (from unstructured<0.11->-r requirements.txt (line 13)) (5.2.0)\n",
      "Requirement already satisfied: filetype in /opt/homebrew/lib/python3.10/site-packages (from unstructured<0.11->-r requirements.txt (line 13)) (1.2.0)\n",
      "Requirement already satisfied: python-magic in /opt/homebrew/lib/python3.10/site-packages (from unstructured<0.11->-r requirements.txt (line 13)) (0.4.27)\n",
      "Requirement already satisfied: lxml in /opt/homebrew/lib/python3.10/site-packages (from unstructured<0.11->-r requirements.txt (line 13)) (4.9.2)\n",
      "Requirement already satisfied: nltk in /opt/homebrew/lib/python3.10/site-packages (from unstructured<0.11->-r requirements.txt (line 13)) (3.8.1)\n",
      "Requirement already satisfied: beautifulsoup4 in /opt/homebrew/lib/python3.10/site-packages (from unstructured<0.11->-r requirements.txt (line 13)) (4.12.0)\n",
      "Requirement already satisfied: emoji in /opt/homebrew/lib/python3.10/site-packages (from unstructured<0.11->-r requirements.txt (line 13)) (2.9.0)\n",
      "Requirement already satisfied: dataclasses-json in /opt/homebrew/lib/python3.10/site-packages (from unstructured<0.11->-r requirements.txt (line 13)) (0.5.14)\n",
      "Requirement already satisfied: python-iso639 in /opt/homebrew/lib/python3.10/site-packages (from unstructured<0.11->-r requirements.txt (line 13)) (2024.1.2)\n",
      "Requirement already satisfied: langdetect in /opt/homebrew/lib/python3.10/site-packages (from unstructured<0.11->-r requirements.txt (line 13)) (1.0.9)\n",
      "Requirement already satisfied: numpy in /opt/homebrew/lib/python3.10/site-packages (from unstructured<0.11->-r requirements.txt (line 13)) (1.24.2)\n",
      "Requirement already satisfied: rapidfuzz in /opt/homebrew/lib/python3.10/site-packages (from unstructured<0.11->-r requirements.txt (line 13)) (3.6.1)\n",
      "Requirement already satisfied: backoff in /opt/homebrew/lib/python3.10/site-packages (from unstructured<0.11->-r requirements.txt (line 13)) (2.2.1)\n",
      "Requirement already satisfied: aiohttp<4.0.0,>=3.8.3 in /opt/homebrew/lib/python3.10/site-packages (from langchain@ git+https://github.com/crate-workbench/langchain.git@cratedb#subdirectory=libs/langchain->langchain[cratedb,openai]@ git+https://github.com/crate-workbench/langchain.git@cratedb#subdirectory=libs/langchain->-r requirements.txt (line 17)) (3.8.5)\n",
      "Requirement already satisfied: async-timeout<5.0.0,>=4.0.0 in /opt/homebrew/lib/python3.10/site-packages (from langchain@ git+https://github.com/crate-workbench/langchain.git@cratedb#subdirectory=libs/langchain->langchain[cratedb,openai]@ git+https://github.com/crate-workbench/langchain.git@cratedb#subdirectory=libs/langchain->-r requirements.txt (line 17)) (4.0.3)\n",
      "Requirement already satisfied: jsonpatch<2.0,>=1.33 in /opt/homebrew/lib/python3.10/site-packages (from langchain@ git+https://github.com/crate-workbench/langchain.git@cratedb#subdirectory=libs/langchain->langchain[cratedb,openai]@ git+https://github.com/crate-workbench/langchain.git@cratedb#subdirectory=libs/langchain->-r requirements.txt (line 17)) (1.33)\n",
      "Requirement already satisfied: langchain-core<0.2,>=0.1.9 in /opt/homebrew/lib/python3.10/site-packages (from langchain@ git+https://github.com/crate-workbench/langchain.git@cratedb#subdirectory=libs/langchain->langchain[cratedb,openai]@ git+https://github.com/crate-workbench/langchain.git@cratedb#subdirectory=libs/langchain->-r requirements.txt (line 17)) (0.1.13)\n",
      "Requirement already satisfied: langsmith<0.1.0,>=0.0.77 in /opt/homebrew/lib/python3.10/site-packages (from langchain@ git+https://github.com/crate-workbench/langchain.git@cratedb#subdirectory=libs/langchain->langchain[cratedb,openai]@ git+https://github.com/crate-workbench/langchain.git@cratedb#subdirectory=libs/langchain->-r requirements.txt (line 17)) (0.0.83)\n",
      "Requirement already satisfied: tenacity<9.0.0,>=8.1.0 in /opt/homebrew/lib/python3.10/site-packages (from langchain@ git+https://github.com/crate-workbench/langchain.git@cratedb#subdirectory=libs/langchain->langchain[cratedb,openai]@ git+https://github.com/crate-workbench/langchain.git@cratedb#subdirectory=libs/langchain->-r requirements.txt (line 17)) (8.2.3)\n",
      "Requirement already satisfied: fsspec<2023.13 in /opt/homebrew/lib/python3.10/site-packages (from fsspec[abfs,dask,gcs,git,github,http,s3,smb]<2023.13; extra == \"fileio\"->pueblo[cli,fileio,nlp]>=0.0.6->-r requirements.txt (line 8)) (2023.5.0)\n",
      "Requirement already satisfied: pathlibfs<0.6 in /opt/homebrew/lib/python3.10/site-packages (from pueblo[cli,fileio,nlp]>=0.0.6->-r requirements.txt (line 8)) (0.5.0)\n",
      "Requirement already satisfied: openai<2 in /opt/homebrew/lib/python3.10/site-packages (from langchain@ git+https://github.com/crate-workbench/langchain.git@cratedb#subdirectory=libs/langchain->langchain[cratedb,openai]@ git+https://github.com/crate-workbench/langchain.git@cratedb#subdirectory=libs/langchain->-r requirements.txt (line 17)) (1.7.0)\n",
      "Requirement already satisfied: tiktoken<0.6.0,>=0.3.2 in /opt/homebrew/lib/python3.10/site-packages (from langchain@ git+https://github.com/crate-workbench/langchain.git@cratedb#subdirectory=libs/langchain->langchain[cratedb,openai]@ git+https://github.com/crate-workbench/langchain.git@cratedb#subdirectory=libs/langchain->-r requirements.txt (line 17)) (0.3.3)\n",
      "Requirement already satisfied: frozenlist>=1.1.1 in /opt/homebrew/lib/python3.10/site-packages (from aiohttp<4.0.0,>=3.8.3->langchain@ git+https://github.com/crate-workbench/langchain.git@cratedb#subdirectory=libs/langchain->langchain[cratedb,openai]@ git+https://github.com/crate-workbench/langchain.git@cratedb#subdirectory=libs/langchain->-r requirements.txt (line 17)) (1.4.0)\n",
      "Requirement already satisfied: aiosignal>=1.1.2 in /opt/homebrew/lib/python3.10/site-packages (from aiohttp<4.0.0,>=3.8.3->langchain@ git+https://github.com/crate-workbench/langchain.git@cratedb#subdirectory=libs/langchain->langchain[cratedb,openai]@ git+https://github.com/crate-workbench/langchain.git@cratedb#subdirectory=libs/langchain->-r requirements.txt (line 17)) (1.3.1)\n",
      "Requirement already satisfied: exceptiongroup>=1.1.1 in /opt/homebrew/lib/python3.10/site-packages (from cattrs>=22.2->requests-cache<2->-r requirements.txt (line 12)) (1.2.0)\n",
      "Requirement already satisfied: typing-inspect<1,>=0.4.0 in /opt/homebrew/lib/python3.10/site-packages (from dataclasses-json->unstructured<0.11->-r requirements.txt (line 13)) (0.9.0)\n",
      "Requirement already satisfied: gcsfs in /opt/homebrew/lib/python3.10/site-packages (from fsspec[abfs,dask,gcs,git,github,http,s3,smb]<2023.13; extra == \"fileio\"->pueblo[cli,fileio,nlp]>=0.0.6->-r requirements.txt (line 8)) (2023.5.0)\n",
      "Requirement already satisfied: dask in /opt/homebrew/lib/python3.10/site-packages (from fsspec[abfs,dask,gcs,git,github,http,s3,smb]<2023.13; extra == \"fileio\"->pueblo[cli,fileio,nlp]>=0.0.6->-r requirements.txt (line 8)) (2023.4.1)\n",
      "Requirement already satisfied: distributed in /opt/homebrew/lib/python3.10/site-packages (from fsspec[abfs,dask,gcs,git,github,http,s3,smb]<2023.13; extra == \"fileio\"->pueblo[cli,fileio,nlp]>=0.0.6->-r requirements.txt (line 8)) (2023.4.1)\n",
      "Requirement already satisfied: adlfs in /opt/homebrew/lib/python3.10/site-packages (from fsspec[abfs,dask,gcs,git,github,http,s3,smb]<2023.13; extra == \"fileio\"->pueblo[cli,fileio,nlp]>=0.0.6->-r requirements.txt (line 8)) (2023.8.0)\n",
      "Requirement already satisfied: smbprotocol in /opt/homebrew/lib/python3.10/site-packages (from fsspec[abfs,dask,gcs,git,github,http,s3,smb]<2023.13; extra == \"fileio\"->pueblo[cli,fileio,nlp]>=0.0.6->-r requirements.txt (line 8)) (1.12.0)\n",
      "Requirement already satisfied: pygit2 in /opt/homebrew/lib/python3.10/site-packages (from fsspec[abfs,dask,gcs,git,github,http,s3,smb]<2023.13; extra == \"fileio\"->pueblo[cli,fileio,nlp]>=0.0.6->-r requirements.txt (line 8)) (1.13.3)\n",
      "Requirement already satisfied: s3fs in /opt/homebrew/lib/python3.10/site-packages (from fsspec[abfs,dask,gcs,git,github,http,s3,smb]<2023.13; extra == \"fileio\"->pueblo[cli,fileio,nlp]>=0.0.6->-r requirements.txt (line 8)) (2023.5.0)\n",
      "Requirement already satisfied: jsonpointer>=1.9 in /opt/homebrew/lib/python3.10/site-packages (from jsonpatch<2.0,>=1.33->langchain@ git+https://github.com/crate-workbench/langchain.git@cratedb#subdirectory=libs/langchain->langchain[cratedb,openai]@ git+https://github.com/crate-workbench/langchain.git@cratedb#subdirectory=libs/langchain->-r requirements.txt (line 17)) (2.3)\n",
      "Requirement already satisfied: anyio<5,>=3 in /opt/homebrew/lib/python3.10/site-packages (from langchain-core<0.2,>=0.1.9->langchain@ git+https://github.com/crate-workbench/langchain.git@cratedb#subdirectory=libs/langchain->langchain[cratedb,openai]@ git+https://github.com/crate-workbench/langchain.git@cratedb#subdirectory=libs/langchain->-r requirements.txt (line 17)) (3.6.2)\n",
      "Requirement already satisfied: distro<2,>=1.7.0 in /opt/homebrew/lib/python3.10/site-packages (from openai<2->langchain@ git+https://github.com/crate-workbench/langchain.git@cratedb#subdirectory=libs/langchain->langchain[cratedb,openai]@ git+https://github.com/crate-workbench/langchain.git@cratedb#subdirectory=libs/langchain->-r requirements.txt (line 17)) (1.9.0)\n"
     ]
    },
    {
     "name": "stdout",
     "output_type": "stream",
     "text": [
      "Requirement already satisfied: httpx<1,>=0.23.0 in /opt/homebrew/lib/python3.10/site-packages (from openai<2->langchain@ git+https://github.com/crate-workbench/langchain.git@cratedb#subdirectory=libs/langchain->langchain[cratedb,openai]@ git+https://github.com/crate-workbench/langchain.git@cratedb#subdirectory=libs/langchain->-r requirements.txt (line 17)) (0.24.1)\n",
      "Requirement already satisfied: sniffio in /opt/homebrew/lib/python3.10/site-packages (from openai<2->langchain@ git+https://github.com/crate-workbench/langchain.git@cratedb#subdirectory=libs/langchain->langchain[cratedb,openai]@ git+https://github.com/crate-workbench/langchain.git@cratedb#subdirectory=libs/langchain->-r requirements.txt (line 17)) (1.3.0)\n",
      "Requirement already satisfied: wcwidth in /opt/homebrew/lib/python3.10/site-packages (from prompt-toolkit<4,>=3.0->crash->-r requirements.txt (line 2)) (0.2.5)\n",
      "Requirement already satisfied: regex>=2022.1.18 in /opt/homebrew/lib/python3.10/site-packages (from tiktoken<0.6.0,>=0.3.2->langchain@ git+https://github.com/crate-workbench/langchain.git@cratedb#subdirectory=libs/langchain->langchain[cratedb,openai]@ git+https://github.com/crate-workbench/langchain.git@cratedb#subdirectory=libs/langchain->-r requirements.txt (line 17)) (2023.6.3)\n",
      "Requirement already satisfied: soupsieve>1.2 in /opt/homebrew/lib/python3.10/site-packages (from beautifulsoup4->unstructured<0.11->-r requirements.txt (line 13)) (2.4)\n",
      "Requirement already satisfied: joblib in /opt/homebrew/lib/python3.10/site-packages (from nltk->unstructured<0.11->-r requirements.txt (line 13)) (1.2.0)\n",
      "Requirement already satisfied: httpcore<0.18.0,>=0.15.0 in /opt/homebrew/lib/python3.10/site-packages (from httpx<1,>=0.23.0->openai<2->langchain@ git+https://github.com/crate-workbench/langchain.git@cratedb#subdirectory=libs/langchain->langchain[cratedb,openai]@ git+https://github.com/crate-workbench/langchain.git@cratedb#subdirectory=libs/langchain->-r requirements.txt (line 17)) (0.17.3)\n",
      "Requirement already satisfied: mypy-extensions>=0.3.0 in /opt/homebrew/lib/python3.10/site-packages (from typing-inspect<1,>=0.4.0->dataclasses-json->unstructured<0.11->-r requirements.txt (line 13)) (1.0.0)\n",
      "Requirement already satisfied: azure-core<2.0.0,>=1.23.1 in /opt/homebrew/lib/python3.10/site-packages (from adlfs->fsspec[abfs,dask,gcs,git,github,http,s3,smb]<2023.13; extra == \"fileio\"->pueblo[cli,fileio,nlp]>=0.0.6->-r requirements.txt (line 8)) (1.29.6)\n",
      "Requirement already satisfied: azure-datalake-store<0.1,>=0.0.46 in /opt/homebrew/lib/python3.10/site-packages (from adlfs->fsspec[abfs,dask,gcs,git,github,http,s3,smb]<2023.13; extra == \"fileio\"->pueblo[cli,fileio,nlp]>=0.0.6->-r requirements.txt (line 8)) (0.0.53)\n",
      "Requirement already satisfied: azure-identity in /opt/homebrew/lib/python3.10/site-packages (from adlfs->fsspec[abfs,dask,gcs,git,github,http,s3,smb]<2023.13; extra == \"fileio\"->pueblo[cli,fileio,nlp]>=0.0.6->-r requirements.txt (line 8)) (1.15.0)\n",
      "Requirement already satisfied: azure-storage-blob>=12.12.0 in /opt/homebrew/lib/python3.10/site-packages (from adlfs->fsspec[abfs,dask,gcs,git,github,http,s3,smb]<2023.13; extra == \"fileio\"->pueblo[cli,fileio,nlp]>=0.0.6->-r requirements.txt (line 8)) (12.19.0)\n",
      "Requirement already satisfied: cloudpickle>=1.5.0 in /opt/homebrew/lib/python3.10/site-packages (from dask->fsspec[abfs,dask,gcs,git,github,http,s3,smb]<2023.13; extra == \"fileio\"->pueblo[cli,fileio,nlp]>=0.0.6->-r requirements.txt (line 8)) (2.2.1)\n",
      "Requirement already satisfied: partd>=1.2.0 in /opt/homebrew/lib/python3.10/site-packages (from dask->fsspec[abfs,dask,gcs,git,github,http,s3,smb]<2023.13; extra == \"fileio\"->pueblo[cli,fileio,nlp]>=0.0.6->-r requirements.txt (line 8)) (1.4.0)\n",
      "Requirement already satisfied: toolz>=0.10.0 in /opt/homebrew/lib/python3.10/site-packages (from dask->fsspec[abfs,dask,gcs,git,github,http,s3,smb]<2023.13; extra == \"fileio\"->pueblo[cli,fileio,nlp]>=0.0.6->-r requirements.txt (line 8)) (0.12.0)\n",
      "Requirement already satisfied: importlib-metadata>=4.13.0 in /opt/homebrew/lib/python3.10/site-packages (from dask->fsspec[abfs,dask,gcs,git,github,http,s3,smb]<2023.13; extra == \"fileio\"->pueblo[cli,fileio,nlp]>=0.0.6->-r requirements.txt (line 8)) (6.6.0)\n",
      "Requirement already satisfied: jinja2>=2.10.3 in /opt/homebrew/lib/python3.10/site-packages (from distributed->fsspec[abfs,dask,gcs,git,github,http,s3,smb]<2023.13; extra == \"fileio\"->pueblo[cli,fileio,nlp]>=0.0.6->-r requirements.txt (line 8)) (3.1.2)\n",
      "Requirement already satisfied: locket>=1.0.0 in /opt/homebrew/lib/python3.10/site-packages (from distributed->fsspec[abfs,dask,gcs,git,github,http,s3,smb]<2023.13; extra == \"fileio\"->pueblo[cli,fileio,nlp]>=0.0.6->-r requirements.txt (line 8)) (1.0.0)\n",
      "Requirement already satisfied: msgpack>=1.0.0 in /opt/homebrew/lib/python3.10/site-packages (from distributed->fsspec[abfs,dask,gcs,git,github,http,s3,smb]<2023.13; extra == \"fileio\"->pueblo[cli,fileio,nlp]>=0.0.6->-r requirements.txt (line 8)) (1.0.5)\n",
      "Requirement already satisfied: psutil>=5.7.0 in /opt/homebrew/lib/python3.10/site-packages (from distributed->fsspec[abfs,dask,gcs,git,github,http,s3,smb]<2023.13; extra == \"fileio\"->pueblo[cli,fileio,nlp]>=0.0.6->-r requirements.txt (line 8)) (5.9.4)\n",
      "Requirement already satisfied: sortedcontainers>=2.0.5 in /opt/homebrew/lib/python3.10/site-packages (from distributed->fsspec[abfs,dask,gcs,git,github,http,s3,smb]<2023.13; extra == \"fileio\"->pueblo[cli,fileio,nlp]>=0.0.6->-r requirements.txt (line 8)) (2.4.0)\n",
      "Requirement already satisfied: tblib>=1.6.0 in /opt/homebrew/lib/python3.10/site-packages (from distributed->fsspec[abfs,dask,gcs,git,github,http,s3,smb]<2023.13; extra == \"fileio\"->pueblo[cli,fileio,nlp]>=0.0.6->-r requirements.txt (line 8)) (1.7.0)\n",
      "Requirement already satisfied: tornado>=6.0.3 in /opt/homebrew/lib/python3.10/site-packages (from distributed->fsspec[abfs,dask,gcs,git,github,http,s3,smb]<2023.13; extra == \"fileio\"->pueblo[cli,fileio,nlp]>=0.0.6->-r requirements.txt (line 8)) (6.2)\n",
      "Requirement already satisfied: zict>=2.2.0 in /opt/homebrew/lib/python3.10/site-packages (from distributed->fsspec[abfs,dask,gcs,git,github,http,s3,smb]<2023.13; extra == \"fileio\"->pueblo[cli,fileio,nlp]>=0.0.6->-r requirements.txt (line 8)) (3.0.0)\n",
      "Requirement already satisfied: decorator>4.1.2 in /opt/homebrew/lib/python3.10/site-packages (from gcsfs->fsspec[abfs,dask,gcs,git,github,http,s3,smb]<2023.13; extra == \"fileio\"->pueblo[cli,fileio,nlp]>=0.0.6->-r requirements.txt (line 8)) (5.1.1)\n",
      "Requirement already satisfied: google-auth>=1.2 in /opt/homebrew/lib/python3.10/site-packages (from gcsfs->fsspec[abfs,dask,gcs,git,github,http,s3,smb]<2023.13; extra == \"fileio\"->pueblo[cli,fileio,nlp]>=0.0.6->-r requirements.txt (line 8)) (2.26.1)\n",
      "Requirement already satisfied: google-auth-oauthlib in /opt/homebrew/lib/python3.10/site-packages (from gcsfs->fsspec[abfs,dask,gcs,git,github,http,s3,smb]<2023.13; extra == \"fileio\"->pueblo[cli,fileio,nlp]>=0.0.6->-r requirements.txt (line 8)) (1.0.0)\n",
      "Requirement already satisfied: google-cloud-storage in /opt/homebrew/lib/python3.10/site-packages (from gcsfs->fsspec[abfs,dask,gcs,git,github,http,s3,smb]<2023.13; extra == \"fileio\"->pueblo[cli,fileio,nlp]>=0.0.6->-r requirements.txt (line 8)) (2.14.0)\n",
      "Requirement already satisfied: cffi>=1.16.0 in /opt/homebrew/lib/python3.10/site-packages (from pygit2->fsspec[abfs,dask,gcs,git,github,http,s3,smb]<2023.13; extra == \"fileio\"->pueblo[cli,fileio,nlp]>=0.0.6->-r requirements.txt (line 8)) (1.16.0)\n",
      "Requirement already satisfied: aiobotocore~=2.5.0 in /opt/homebrew/lib/python3.10/site-packages (from s3fs->fsspec[abfs,dask,gcs,git,github,http,s3,smb]<2023.13; extra == \"fileio\"->pueblo[cli,fileio,nlp]>=0.0.6->-r requirements.txt (line 8)) (2.5.4)\n",
      "Requirement already satisfied: cryptography>=2.0 in /opt/homebrew/lib/python3.10/site-packages (from smbprotocol->fsspec[abfs,dask,gcs,git,github,http,s3,smb]<2023.13; extra == \"fileio\"->pueblo[cli,fileio,nlp]>=0.0.6->-r requirements.txt (line 8)) (40.0.1)\n",
      "Requirement already satisfied: pyspnego in /opt/homebrew/lib/python3.10/site-packages (from smbprotocol->fsspec[abfs,dask,gcs,git,github,http,s3,smb]<2023.13; extra == \"fileio\"->pueblo[cli,fileio,nlp]>=0.0.6->-r requirements.txt (line 8)) (0.10.2)\n"
     ]
    },
    {
     "name": "stdout",
     "output_type": "stream",
     "text": [
      "Requirement already satisfied: botocore<1.31.18,>=1.31.17 in /opt/homebrew/lib/python3.10/site-packages (from aiobotocore~=2.5.0->s3fs->fsspec[abfs,dask,gcs,git,github,http,s3,smb]<2023.13; extra == \"fileio\"->pueblo[cli,fileio,nlp]>=0.0.6->-r requirements.txt (line 8)) (1.31.17)\n",
      "Requirement already satisfied: wrapt<2.0.0,>=1.10.10 in /opt/homebrew/lib/python3.10/site-packages (from aiobotocore~=2.5.0->s3fs->fsspec[abfs,dask,gcs,git,github,http,s3,smb]<2023.13; extra == \"fileio\"->pueblo[cli,fileio,nlp]>=0.0.6->-r requirements.txt (line 8)) (1.15.0)\n",
      "Requirement already satisfied: aioitertools<1.0.0,>=0.5.1 in /opt/homebrew/lib/python3.10/site-packages (from aiobotocore~=2.5.0->s3fs->fsspec[abfs,dask,gcs,git,github,http,s3,smb]<2023.13; extra == \"fileio\"->pueblo[cli,fileio,nlp]>=0.0.6->-r requirements.txt (line 8)) (0.11.0)\n",
      "Requirement already satisfied: msal<2,>=1.16.0 in /opt/homebrew/lib/python3.10/site-packages (from azure-datalake-store<0.1,>=0.0.46->adlfs->fsspec[abfs,dask,gcs,git,github,http,s3,smb]<2023.13; extra == \"fileio\"->pueblo[cli,fileio,nlp]>=0.0.6->-r requirements.txt (line 8)) (1.26.0)\n",
      "Requirement already satisfied: isodate>=0.6.1 in /opt/homebrew/lib/python3.10/site-packages (from azure-storage-blob>=12.12.0->adlfs->fsspec[abfs,dask,gcs,git,github,http,s3,smb]<2023.13; extra == \"fileio\"->pueblo[cli,fileio,nlp]>=0.0.6->-r requirements.txt (line 8)) (0.6.1)\n",
      "Requirement already satisfied: pycparser in /opt/homebrew/lib/python3.10/site-packages (from cffi>=1.16.0->pygit2->fsspec[abfs,dask,gcs,git,github,http,s3,smb]<2023.13; extra == \"fileio\"->pueblo[cli,fileio,nlp]>=0.0.6->-r requirements.txt (line 8)) (2.21)\n",
      "Requirement already satisfied: cachetools<6.0,>=2.0.0 in /opt/homebrew/lib/python3.10/site-packages (from google-auth>=1.2->gcsfs->fsspec[abfs,dask,gcs,git,github,http,s3,smb]<2023.13; extra == \"fileio\"->pueblo[cli,fileio,nlp]>=0.0.6->-r requirements.txt (line 8)) (5.3.1)\n",
      "Requirement already satisfied: pyasn1-modules>=0.2.1 in /opt/homebrew/lib/python3.10/site-packages (from google-auth>=1.2->gcsfs->fsspec[abfs,dask,gcs,git,github,http,s3,smb]<2023.13; extra == \"fileio\"->pueblo[cli,fileio,nlp]>=0.0.6->-r requirements.txt (line 8)) (0.3.0)\n",
      "Requirement already satisfied: rsa<5,>=3.1.4 in /opt/homebrew/lib/python3.10/site-packages (from google-auth>=1.2->gcsfs->fsspec[abfs,dask,gcs,git,github,http,s3,smb]<2023.13; extra == \"fileio\"->pueblo[cli,fileio,nlp]>=0.0.6->-r requirements.txt (line 8)) (4.9)\n",
      "Requirement already satisfied: h11<0.15,>=0.13 in /opt/homebrew/lib/python3.10/site-packages (from httpcore<0.18.0,>=0.15.0->httpx<1,>=0.23.0->openai<2->langchain@ git+https://github.com/crate-workbench/langchain.git@cratedb#subdirectory=libs/langchain->langchain[cratedb,openai]@ git+https://github.com/crate-workbench/langchain.git@cratedb#subdirectory=libs/langchain->-r requirements.txt (line 17)) (0.14.0)\n",
      "Requirement already satisfied: zipp>=0.5 in /opt/homebrew/lib/python3.10/site-packages (from importlib-metadata>=4.13.0->dask->fsspec[abfs,dask,gcs,git,github,http,s3,smb]<2023.13; extra == \"fileio\"->pueblo[cli,fileio,nlp]>=0.0.6->-r requirements.txt (line 8)) (3.15.0)\n",
      "Requirement already satisfied: MarkupSafe>=2.0 in /opt/homebrew/lib/python3.10/site-packages (from jinja2>=2.10.3->distributed->fsspec[abfs,dask,gcs,git,github,http,s3,smb]<2023.13; extra == \"fileio\"->pueblo[cli,fileio,nlp]>=0.0.6->-r requirements.txt (line 8)) (2.1.2)\n",
      "Requirement already satisfied: msal-extensions<2.0.0,>=0.3.0 in /opt/homebrew/lib/python3.10/site-packages (from azure-identity->adlfs->fsspec[abfs,dask,gcs,git,github,http,s3,smb]<2023.13; extra == \"fileio\"->pueblo[cli,fileio,nlp]>=0.0.6->-r requirements.txt (line 8)) (1.1.0)\n",
      "Requirement already satisfied: requests-oauthlib>=0.7.0 in /opt/homebrew/lib/python3.10/site-packages (from google-auth-oauthlib->gcsfs->fsspec[abfs,dask,gcs,git,github,http,s3,smb]<2023.13; extra == \"fileio\"->pueblo[cli,fileio,nlp]>=0.0.6->-r requirements.txt (line 8)) (1.3.1)\n",
      "Requirement already satisfied: google-api-core!=2.0.*,!=2.1.*,!=2.2.*,!=2.3.0,<3.0.0dev,>=1.31.5 in /opt/homebrew/lib/python3.10/site-packages (from google-cloud-storage->gcsfs->fsspec[abfs,dask,gcs,git,github,http,s3,smb]<2023.13; extra == \"fileio\"->pueblo[cli,fileio,nlp]>=0.0.6->-r requirements.txt (line 8)) (2.15.0)\n",
      "Requirement already satisfied: google-cloud-core<3.0dev,>=2.3.0 in /opt/homebrew/lib/python3.10/site-packages (from google-cloud-storage->gcsfs->fsspec[abfs,dask,gcs,git,github,http,s3,smb]<2023.13; extra == \"fileio\"->pueblo[cli,fileio,nlp]>=0.0.6->-r requirements.txt (line 8)) (2.4.1)\n",
      "Requirement already satisfied: google-resumable-media>=2.6.0 in /opt/homebrew/lib/python3.10/site-packages (from google-cloud-storage->gcsfs->fsspec[abfs,dask,gcs,git,github,http,s3,smb]<2023.13; extra == \"fileio\"->pueblo[cli,fileio,nlp]>=0.0.6->-r requirements.txt (line 8)) (2.7.0)\n",
      "Requirement already satisfied: google-crc32c<2.0dev,>=1.0 in /opt/homebrew/lib/python3.10/site-packages (from google-cloud-storage->gcsfs->fsspec[abfs,dask,gcs,git,github,http,s3,smb]<2023.13; extra == \"fileio\"->pueblo[cli,fileio,nlp]>=0.0.6->-r requirements.txt (line 8)) (1.5.0)\n",
      "Requirement already satisfied: jmespath<2.0.0,>=0.7.1 in /opt/homebrew/lib/python3.10/site-packages (from botocore<1.31.18,>=1.31.17->aiobotocore~=2.5.0->s3fs->fsspec[abfs,dask,gcs,git,github,http,s3,smb]<2023.13; extra == \"fileio\"->pueblo[cli,fileio,nlp]>=0.0.6->-r requirements.txt (line 8)) (1.0.1)\n",
      "Requirement already satisfied: python-dateutil<3.0.0,>=2.1 in /opt/homebrew/lib/python3.10/site-packages (from botocore<1.31.18,>=1.31.17->aiobotocore~=2.5.0->s3fs->fsspec[abfs,dask,gcs,git,github,http,s3,smb]<2023.13; extra == \"fileio\"->pueblo[cli,fileio,nlp]>=0.0.6->-r requirements.txt (line 8)) (2.8.2)\n",
      "Requirement already satisfied: googleapis-common-protos<2.0.dev0,>=1.56.2 in /opt/homebrew/lib/python3.10/site-packages (from google-api-core!=2.0.*,!=2.1.*,!=2.2.*,!=2.3.0,<3.0.0dev,>=1.31.5->google-cloud-storage->gcsfs->fsspec[abfs,dask,gcs,git,github,http,s3,smb]<2023.13; extra == \"fileio\"->pueblo[cli,fileio,nlp]>=0.0.6->-r requirements.txt (line 8)) (1.62.0)\n",
      "Requirement already satisfied: protobuf!=3.20.0,!=3.20.1,!=4.21.0,!=4.21.1,!=4.21.2,!=4.21.3,!=4.21.4,!=4.21.5,<5.0.0.dev0,>=3.19.5 in /opt/homebrew/lib/python3.10/site-packages (from google-api-core!=2.0.*,!=2.1.*,!=2.2.*,!=2.3.0,<3.0.0dev,>=1.31.5->google-cloud-storage->gcsfs->fsspec[abfs,dask,gcs,git,github,http,s3,smb]<2023.13; extra == \"fileio\"->pueblo[cli,fileio,nlp]>=0.0.6->-r requirements.txt (line 8)) (4.24.3)\n",
      "Requirement already satisfied: PyJWT<3,>=1.0.0 in /opt/homebrew/lib/python3.10/site-packages (from PyJWT[crypto]<3,>=1.0.0->msal<2,>=1.16.0->azure-datalake-store<0.1,>=0.0.46->adlfs->fsspec[abfs,dask,gcs,git,github,http,s3,smb]<2023.13; extra == \"fileio\"->pueblo[cli,fileio,nlp]>=0.0.6->-r requirements.txt (line 8)) (2.8.0)\n",
      "Requirement already satisfied: portalocker<3,>=1.0 in /opt/homebrew/lib/python3.10/site-packages (from msal-extensions<2.0.0,>=0.3.0->azure-identity->adlfs->fsspec[abfs,dask,gcs,git,github,http,s3,smb]<2023.13; extra == \"fileio\"->pueblo[cli,fileio,nlp]>=0.0.6->-r requirements.txt (line 8)) (2.8.2)\n",
      "Requirement already satisfied: pyasn1<0.6.0,>=0.4.6 in /opt/homebrew/lib/python3.10/site-packages (from pyasn1-modules>=0.2.1->google-auth>=1.2->gcsfs->fsspec[abfs,dask,gcs,git,github,http,s3,smb]<2023.13; extra == \"fileio\"->pueblo[cli,fileio,nlp]>=0.0.6->-r requirements.txt (line 8)) (0.5.0)\n",
      "Requirement already satisfied: oauthlib>=3.0.0 in /opt/homebrew/lib/python3.10/site-packages (from requests-oauthlib>=0.7.0->google-auth-oauthlib->gcsfs->fsspec[abfs,dask,gcs,git,github,http,s3,smb]<2023.13; extra == \"fileio\"->pueblo[cli,fileio,nlp]>=0.0.6->-r requirements.txt (line 8)) (3.2.2)\n"
     ]
    }
   ],
   "source": [
    "!pip install -r requirements.txt"
   ]
  },
  {
   "cell_type": "code",
   "execution_count": 2,
   "metadata": {
    "id": "VUNjBDrXNNoG"
   },
   "outputs": [
    {
     "ename": "ImportError",
     "evalue": "cannot import name 'CrateDBVectorSearch' from 'langchain.vectorstores' (/opt/homebrew/lib/python3.10/site-packages/langchain/vectorstores/__init__.py)",
     "output_type": "error",
     "traceback": [
      "\u001b[0;31m---------------------------------------------------------------------------\u001b[0m",
      "\u001b[0;31mImportError\u001b[0m                               Traceback (most recent call last)",
      "Cell \u001b[0;32mIn[2], line 11\u001b[0m\n\u001b[1;32m      9\u001b[0m \u001b[38;5;28;01mfrom\u001b[39;00m \u001b[38;5;21;01mpueblo\u001b[39;00m\u001b[38;5;21;01m.\u001b[39;00m\u001b[38;5;21;01mutil\u001b[39;00m\u001b[38;5;21;01m.\u001b[39;00m\u001b[38;5;21;01menviron\u001b[39;00m \u001b[38;5;28;01mimport\u001b[39;00m getenvpass\n\u001b[1;32m     10\u001b[0m \u001b[38;5;28;01mfrom\u001b[39;00m \u001b[38;5;21;01mlangchain\u001b[39;00m\u001b[38;5;21;01m.\u001b[39;00m\u001b[38;5;21;01mdocstore\u001b[39;00m\u001b[38;5;21;01m.\u001b[39;00m\u001b[38;5;21;01mdocument\u001b[39;00m \u001b[38;5;28;01mimport\u001b[39;00m Document\n\u001b[0;32m---> 11\u001b[0m \u001b[38;5;28;01mfrom\u001b[39;00m \u001b[38;5;21;01mlangchain\u001b[39;00m\u001b[38;5;21;01m.\u001b[39;00m\u001b[38;5;21;01mvectorstores\u001b[39;00m \u001b[38;5;28;01mimport\u001b[39;00m CrateDBVectorSearch\n",
      "\u001b[0;31mImportError\u001b[0m: cannot import name 'CrateDBVectorSearch' from 'langchain.vectorstores' (/opt/homebrew/lib/python3.10/site-packages/langchain/vectorstores/__init__.py)"
     ]
    }
   ],
   "source": [
    "import os\n",
    "\n",
    "import openai\n",
    "import pandas as pd\n",
    "import sqlalchemy as sa\n",
    "\n",
    "from langchain.document_loaders.csv_loader import CSVLoader\n",
    "from langchain.embeddings.openai import OpenAIEmbeddings\n",
    "from pueblo.util.environ import getenvpass\n",
    "from langchain.docstore.document import Document\n",
    "from langchain.vectorstores import CrateDBVectorSearch"
   ]
  },
  {
   "cell_type": "markdown",
   "metadata": {},
   "source": [
    "### Configure database settings"
   ]
  },
  {
   "cell_type": "markdown",
   "metadata": {},
   "source": [
    "This notebook will connect to a CrateDB server instance running on localhost. You can start a sandbox instance on your workstation by running [CrateDB using Docker]. Alternatively, you can also connect to a cluster running on [CrateDB Cloud].\n",
    "\n",
    "[CrateDB Cloud]: https://console.cratedb.cloud/\n",
    "[CrateDB using Docker]: https://crate.io/docs/crate/tutorials/en/latest/basic/index.html#docker."
   ]
  },
  {
   "cell_type": "code",
   "execution_count": 3,
   "metadata": {},
   "outputs": [],
   "source": [
    "# Define the connection string to running CrateDB instance.\n",
    "CONNECTION_STRING = os.environ.get(\n",
    "    \"CRATEDB_CONNECTION_STRING\",\n",
    "    \"crate://crate@localhost/\",\n",
    ")\n",
    "\n",
    "# Define the store collection to use for this notebook session.\n",
    "COLLECTION_NAME = \"customer_data\""
   ]
  },
  {
   "cell_type": "markdown",
   "metadata": {},
   "source": [
    "### Configure OpenAI"
   ]
  },
  {
   "cell_type": "markdown",
   "metadata": {},
   "source": [
    "In this example you need to have an API key from OpenAI. This is typically done by creating an account on OpenAI's website and accessing the API section, where you can generate a new key."
   ]
  },
  {
   "cell_type": "code",
   "execution_count": 4,
   "metadata": {},
   "outputs": [
    {
     "name": "stdout",
     "output_type": "stream",
     "text": [
      "OpenAI API key:········\n"
     ]
    }
   ],
   "source": [
    "getenvpass(\"OPENAI_API_KEY\", prompt=\"OpenAI API key:\")\n",
    "openai.api_key = os.environ[\"OPENAI_API_KEY\"]"
   ]
  },
  {
   "cell_type": "markdown",
   "metadata": {},
   "source": [
    "### Patches\n",
    "Those can be removed again after they have been upstreamed."
   ]
  },
  {
   "cell_type": "code",
   "execution_count": 5,
   "metadata": {
    "scrolled": false
   },
   "outputs": [],
   "source": [
    "from cratedb_toolkit.sqlalchemy.patch import patch_inspector\n",
    "patch_inspector()"
   ]
  },
  {
   "cell_type": "markdown",
   "metadata": {
    "id": "Cd2BLNlReU01"
   },
   "source": [
    "## Create embeddings from dataset"
   ]
  },
  {
   "cell_type": "markdown",
   "metadata": {},
   "source": [
    "We use `CSVLoader` class to load support tickets from Twitter. The next step initializes a vector search store in CrateDB using embeddings generated by an OpenAI model. This will create a table that stores the embeddings with the name of the collection. Make sure the collection name is unique and that you have the permission to create a table."
   ]
  },
  {
   "cell_type": "code",
   "execution_count": 6,
   "metadata": {
    "colab": {
     "base_uri": "https://localhost:8080/"
    },
    "id": "6Po5rpReNuhn",
    "outputId": "84e363de-84be-4c96-d3b7-8c4561fd03db"
   },
   "outputs": [],
   "source": [
    "loader = CSVLoader(file_path=\"./sample_data/twitter_support_microsoft.csv\", encoding=\"utf-8\", csv_args={'delimiter': ','})\n",
    "data = loader.load()"
   ]
  },
  {
   "cell_type": "code",
   "execution_count": 7,
   "metadata": {
    "id": "nWl5RSPjPgGv"
   },
   "outputs": [
    {
     "name": "stderr",
     "output_type": "stream",
     "text": [
      "/opt/homebrew/lib/python3.10/site-packages/langchain_core/_api/deprecation.py:117: LangChainDeprecationWarning: The class `langchain_community.embeddings.openai.OpenAIEmbeddings` was deprecated in langchain-community 0.1.0 and will be removed in 0.2.0. An updated version of the class exists in the langchain-openai package and should be used instead. To use it run `pip install -U langchain-openai` and import as `from langchain_openai import OpenAIEmbeddings`.\n",
      "  warn_deprecated(\n"
     ]
    },
    {
     "ename": "NameError",
     "evalue": "name 'CrateDBVectorSearch' is not defined",
     "output_type": "error",
     "traceback": [
      "\u001b[0;31m---------------------------------------------------------------------------\u001b[0m",
      "\u001b[0;31mNameError\u001b[0m                                 Traceback (most recent call last)",
      "Cell \u001b[0;32mIn[7], line 3\u001b[0m\n\u001b[1;32m      1\u001b[0m embeddings \u001b[38;5;241m=\u001b[39m OpenAIEmbeddings()\n\u001b[0;32m----> 3\u001b[0m store \u001b[38;5;241m=\u001b[39m \u001b[43mCrateDBVectorSearch\u001b[49m\u001b[38;5;241m.\u001b[39mfrom_documents(\n\u001b[1;32m      4\u001b[0m     embedding\u001b[38;5;241m=\u001b[39membeddings,\n\u001b[1;32m      5\u001b[0m     documents\u001b[38;5;241m=\u001b[39mdata,\n\u001b[1;32m      6\u001b[0m     collection_name\u001b[38;5;241m=\u001b[39mCOLLECTION_NAME,\n\u001b[1;32m      7\u001b[0m     connection_string\u001b[38;5;241m=\u001b[39mCONNECTION_STRING,\n\u001b[1;32m      8\u001b[0m )\n",
      "\u001b[0;31mNameError\u001b[0m: name 'CrateDBVectorSearch' is not defined"
     ]
    }
   ],
   "source": [
    "embeddings = OpenAIEmbeddings()\n",
    "\n",
    "store = CrateDBVectorSearch.from_documents(\n",
    "    embedding=embeddings,\n",
    "    documents=data,\n",
    "    collection_name=COLLECTION_NAME,\n",
    "    connection_string=CONNECTION_STRING,\n",
    ")"
   ]
  },
  {
   "cell_type": "markdown",
   "metadata": {
    "id": "GkAPZ55RZQ09"
   },
   "source": [
    "## Ask question\n",
    "Let's define our question:"
   ]
  },
  {
   "cell_type": "code",
   "execution_count": null,
   "metadata": {
    "id": "InhR73isZJCB"
   },
   "outputs": [],
   "source": [
    "my_question = \"How to update shipping address on existing order in Microsoft Store?\""
   ]
  },
  {
   "cell_type": "markdown",
   "metadata": {
    "id": "6XnNZHI6ajaS"
   },
   "source": [
    "## Find relevant context using similarity search"
   ]
  },
  {
   "cell_type": "markdown",
   "metadata": {},
   "source": [
    "The similarity search uses Eucledian distance to find similar vectors and compute the score:"
   ]
  },
  {
   "cell_type": "code",
   "execution_count": null,
   "metadata": {
    "colab": {
     "base_uri": "https://localhost:8080/"
    },
    "id": "VjLeMkwMagOf",
    "outputId": "2c92d6fc-22aa-4914-b58c-bbd3928108e1"
   },
   "outputs": [],
   "source": [
    "docs_with_score = store.similarity_search_with_score(my_question)\n",
    "documents=[]\n",
    "for doc, score in docs_with_score:\n",
    "    documents.append(doc.page_content)"
   ]
  },
  {
   "cell_type": "markdown",
   "metadata": {
    "id": "-j94BF-3e1Je"
   },
   "source": [
    "## Augment system prompt and query LLM"
   ]
  },
  {
   "cell_type": "markdown",
   "metadata": {},
   "source": [
    "In the final step we create an interactive chatbot scenario where GPT-4 serves as a customer support assistant, using a given set of documents as its knowledge base to answer questions about Microsoft products and services. If the answer to a question isn't in the provided documents, it's programmed to respond with \"I don't know.\""
   ]
  },
  {
   "cell_type": "code",
   "execution_count": null,
   "metadata": {
    "id": "IEuq9r2EaqUz"
   },
   "outputs": [],
   "source": [
    "context = '---\\n'.join(documents)\n",
    "\n",
    "system_prompt = f\"\"\"\n",
    "You are customer support expert and get questions about Microsoft products and services.\n",
    "To answer question use the information from the context. Remove new line characters from the answer.\n",
    "If you don't find the relevant information there, say \"I don't know\".\n",
    "\n",
    "Context:\n",
    "{context}\"\"\"\n",
    "\n",
    "chat_completion = openai.chat.completions.create(model=\"gpt-3.5-turbo\",\n",
    "                                               messages=[{\"role\": \"system\", \"content\": system_prompt},\n",
    "                                                         {\"role\": \"user\", \"content\": my_question}])\n"
   ]
  },
  {
   "cell_type": "code",
   "execution_count": null,
   "metadata": {
    "colab": {
     "base_uri": "https://localhost:8080/",
     "height": 53
    },
    "id": "aQnmpCIZa13L",
    "outputId": "a10c71a7-a6c7-4f83-c069-df49703d4654"
   },
   "outputs": [],
   "source": [
    "chat_completion.choices[0].message.content"
   ]
  }
 ],
 "metadata": {
  "colab": {
   "provenance": []
  },
  "kernelspec": {
   "display_name": "Python 3 (ipykernel)",
   "language": "python",
   "name": "python3"
  },
  "language_info": {
   "codemirror_mode": {
    "name": "ipython",
    "version": 3
   },
   "file_extension": ".py",
   "mimetype": "text/x-python",
   "name": "python",
   "nbconvert_exporter": "python",
   "pygments_lexer": "ipython3",
   "version": "3.10.13"
  }
 },
 "nbformat": 4,
 "nbformat_minor": 1
}
