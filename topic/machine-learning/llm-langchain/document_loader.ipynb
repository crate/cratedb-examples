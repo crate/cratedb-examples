{
 "cells": [
  {
   "cell_type": "markdown",
   "metadata": {},
   "source": [
    "# SQLAlchemy\n",
    "\n",
    "This notebook demonstrates how to load documents from a [CrateDB] database,\n",
    "using the document loader `CrateDBLoader`, which is based on [SQLAlchemy].\n",
    "\n",
    "It loads the result of a database query with one document per row.\n",
    "\n",
    "[CrateDB]: https://github.com/crate/crate\n",
    "[SQLAlchemy]: https://www.sqlalchemy.org/"
   ]
  },
  {
   "cell_type": "markdown",
   "source": [
    "## Prerequisites\n",
    "\n",
    "First, install the required dependencies by uncommenting and invoking the\n",
    "`pip install` command below. Please make sure to restart the notebook runtime\n",
    "environment afterwards. If you observe any installation problems, please report\n",
    "them back to us."
   ],
   "metadata": {
    "collapsed": false
   }
  },
  {
   "cell_type": "code",
   "execution_count": 40,
   "metadata": {
    "tags": []
   },
   "outputs": [],
   "source": [
    "#!pip install -U -r https://github.com/crate/cratedb-examples/raw/main/topic/machine-learning/llm-langchain/requirements.txt"
   ]
  },
  {
   "cell_type": "markdown",
   "source": [
    "Populate database."
   ],
   "metadata": {
    "collapsed": false
   }
  },
  {
   "cell_type": "code",
   "execution_count": 3,
   "outputs": [],
   "source": [
    "# Connect to a self-managed CrateDB instance.\n",
    "CONNECTION_STRING = \"crate://crate@localhost/?schema=notebook\""
   ],
   "metadata": {
    "collapsed": false
   }
  },
  {
   "cell_type": "code",
   "execution_count": 4,
   "metadata": {
    "tags": []
   },
   "outputs": [],
   "source": [
    "import requests\n",
    "from cratedb_toolkit.util import DatabaseAdapter\n",
    "\n",
    "\n",
    "def import_mlb_teams_2012():\n",
    "    \"\"\"\n",
    "    Import data into database table `mlb_teams_2012`.\n",
    "\n",
    "    TODO: Refactor into general purpose package.\n",
    "    \"\"\"\n",
    "    cratedb = DatabaseAdapter(dburi=CONNECTION_STRING)\n",
    "    url = \"https://github.com/crate-workbench/langchain/raw/cratedb/docs/docs/integrations/document_loaders/example_data/mlb_teams_2012.sql\"\n",
    "    sql = requests.get(url).text\n",
    "    cratedb.run_sql(sql)\n",
    "    cratedb.refresh_table(\"mlb_teams_2012\")\n",
    "\n",
    "\n",
    "import_mlb_teams_2012()"
   ]
  },
  {
   "cell_type": "markdown",
   "source": [
    "## Usage"
   ],
   "metadata": {
    "collapsed": false
   }
  },
  {
   "cell_type": "code",
   "execution_count": 5,
   "metadata": {
    "tags": []
   },
   "outputs": [],
   "source": [
    "import sqlalchemy as sa\n",
    "from langchain_community.document_loaders import CrateDBLoader\n",
    "from langchain_community.utilities.sql_database import SQLDatabase\n",
    "from pprint import pprint\n",
    "\n",
    "db = SQLDatabase(engine=sa.create_engine(CONNECTION_STRING))\n",
    "\n",
    "loader = CrateDBLoader(\n",
    "    'SELECT * FROM mlb_teams_2012 ORDER BY \"Team\" LIMIT 5;',\n",
    "    db=db,\n",
    ")\n",
    "documents = loader.load()"
   ]
  },
  {
   "cell_type": "code",
   "execution_count": 6,
   "metadata": {
    "tags": []
   },
   "outputs": [
    {
     "name": "stdout",
     "output_type": "stream",
     "text": [
      "[Document(page_content='Team: Angels\\nPayroll (millions): 154.49\\nWins: 89'),\n",
      " Document(page_content='Team: Astros\\nPayroll (millions): 60.65\\nWins: 55'),\n",
      " Document(page_content='Team: Athletics\\nPayroll (millions): 55.37\\nWins: 94'),\n",
      " Document(page_content='Team: Blue Jays\\nPayroll (millions): 75.48\\nWins: 73'),\n",
      " Document(page_content='Team: Braves\\nPayroll (millions): 83.31\\nWins: 94')]\n"
     ]
    }
   ],
   "source": [
    "pprint(documents)"
   ]
  },
  {
   "cell_type": "markdown",
   "metadata": {},
   "source": [
    "## Specifying Which Columns are Content vs Metadata"
   ]
  },
  {
   "cell_type": "code",
   "execution_count": 15,
   "metadata": {},
   "outputs": [],
   "source": [
    "loader = CrateDBLoader(\n",
    "    'SELECT * FROM mlb_teams_2012 ORDER BY \"Team\" LIMIT 5;',\n",
    "    db=db,\n",
    "    page_content_mapper=lambda row: row[\"Team\"],\n",
    "    metadata_mapper=lambda row: {\"Payroll (millions)\": row[\"Payroll (millions)\"]},\n",
    ")\n",
    "documents = loader.load()"
   ]
  },
  {
   "cell_type": "code",
   "execution_count": 16,
   "metadata": {},
   "outputs": [
    {
     "name": "stdout",
     "output_type": "stream",
     "text": [
      "[Document(page_content='Team: Angels', metadata={'Payroll (millions)': 154.49}),\n",
      " Document(page_content='Team: Astros', metadata={'Payroll (millions)': 60.65}),\n",
      " Document(page_content='Team: Athletics', metadata={'Payroll (millions)': 55.37}),\n",
      " Document(page_content='Team: Blue Jays', metadata={'Payroll (millions)': 75.48}),\n",
      " Document(page_content='Team: Braves', metadata={'Payroll (millions)': 83.31})]\n"
     ]
    }
   ],
   "source": [
    "pprint(documents)"
   ]
  },
  {
   "cell_type": "markdown",
   "metadata": {},
   "source": [
    "## Adding Source to Metadata"
   ]
  },
  {
   "cell_type": "code",
   "execution_count": 17,
   "metadata": {},
   "outputs": [],
   "source": [
    "loader = CrateDBLoader(\n",
    "    'SELECT * FROM mlb_teams_2012 ORDER BY \"Team\" LIMIT 5;',\n",
    "    db=db,\n",
    "    source_columns=[\"Team\"],\n",
    ")\n",
    "documents = loader.load()"
   ]
  },
  {
   "cell_type": "code",
   "execution_count": 18,
   "metadata": {},
   "outputs": [
    {
     "name": "stdout",
     "output_type": "stream",
     "text": [
      "[Document(page_content='Team: Angels\\nPayroll (millions): 154.49\\nWins: 89', metadata={'source': 'Angels'}),\n",
      " Document(page_content='Team: Astros\\nPayroll (millions): 60.65\\nWins: 55', metadata={'source': 'Astros'}),\n",
      " Document(page_content='Team: Athletics\\nPayroll (millions): 55.37\\nWins: 94', metadata={'source': 'Athletics'}),\n",
      " Document(page_content='Team: Blue Jays\\nPayroll (millions): 75.48\\nWins: 73', metadata={'source': 'Blue Jays'}),\n",
      " Document(page_content='Team: Braves\\nPayroll (millions): 83.31\\nWins: 94', metadata={'source': 'Braves'})]\n"
     ]
    }
   ],
   "source": [
    "pprint(documents)"
   ]
  }
 ],
 "metadata": {
  "kernelspec": {
   "display_name": "Python 3 (ipykernel)",
   "language": "python",
   "name": "python3"
  },
  "language_info": {
   "codemirror_mode": {
    "name": "ipython",
    "version": 3
   },
   "file_extension": ".py",
   "mimetype": "text/x-python",
   "name": "python",
   "nbconvert_exporter": "python",
   "pygments_lexer": "ipython3",
   "version": "3.10.6"
  }
 },
 "nbformat": 4,
 "nbformat_minor": 4
}
