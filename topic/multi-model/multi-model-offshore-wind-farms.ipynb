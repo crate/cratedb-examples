{
 "cells": [
  {
   "cell_type": "markdown",
   "metadata": {},
   "source": [
    "# CrateDB UK Offshore Wind Farms Data Workshop\n",
    "\n",
    "![Turbines forming part of a wind farm near the UK coastline.](multi-model-offshore-wind-farms.jpg \"A wind farm near the UK coastline.\")\n",
    "\n",
    "This workshop explores multi-model data modeling and queries with [CrateDB](https://cratedb.com), using data from [The Crown Estate](https://www.thecrownestate.co.uk/our-business/marine/offshore-wind) which manages the UK's offshore wind farms.  It is derived from a conference presentation that you can [watch on YouTube](https://www.youtube.com/watch?v=xqiLGjaTlBk).\n",
    "\n",
    "You'll work with tables containing data for:\n",
    "\n",
    "* **Wind Farms**.  Details of the UK's 45 offshore wind farms are loaded into a CrateDB table from the supplied JSONL file.  Each record includes an ID for the wind farm as well as a name, description and geospatial data in [WKT format](https://en.wikipedia.org/wiki/Well-known_text_representation_of_geometry) that describes the shape of the wind farm as one or more polygons.  The co-ordinates of each turbine are also included, where known.\n",
    "\n",
    "* **Hourly Wind Farm Performance Data**.  This table contains time-series data pertaining to the power output of each wind farm on an hourly basis for the period 19th August 2024 to 28th October 2024.  The data is supplied as a compressed JSONL file.\n",
    "\n",
    "## Install Dependencies\n",
    "\n",
    "First, install the required dependencies by executing the `pip install` command below."
   ]
  },
  {
   "cell_type": "code",
   "execution_count": null,
   "metadata": {},
   "outputs": [],
   "source": [
    "! pip install -U ipyleaflet sqlalchemy-cratedb pandas"
   ]
  },
  {
   "cell_type": "markdown",
   "metadata": {},
   "source": [
    "## Connect to CrateDB\n",
    "\n",
    "Before going any further, you'll need to update the code below to include a connection string for your CrateDB cluster.  If yo prefer, you can set the environment variable `CRATEDB_CONNECTION_STRING` instead.\n",
    "\n",
    "The code below assumes that you're using a managed CrateDB Cloud database cluster.  [Sign up here](https://console.cratedb.cloud/) to create a free cluster.\n",
    "\n",
    "Alternatively, if you are running CrateDB locally (for example with [Docker](https://hub.docker.com/_/crate)), use the `localhost` code block to eastablish a database connection instead."
   ]
  },
  {
   "cell_type": "code",
   "execution_count": null,
   "metadata": {},
   "outputs": [],
   "source": [
    "import os\n",
    "import sqlalchemy as sa\n",
    "\n",
    "# Define database address when using CrateDB Cloud.\n",
    "# Please find these settings on your cluster overview page.\n",
    "CONNECTION_STRING = os.environ.get(\n",
    "    \"CRATEDB_CONNECTION_STRING\",\n",
    "    \"crate://<USERNAME>:<PASSWORD>@<HOST>/?ssl=true\",\n",
    ")\n",
    "\n",
    "# # Define database address when using CrateDB on localhost.\n",
    "# CONNECTION_STRING = os.environ.get(\n",
    "#    \"CRATEDB_CONNECTION_STRING\",\n",
    "#    \"crate://crate@localhost/\",\n",
    "# )\n",
    "\n",
    "# Connect to CrateDB using SQLAlchemy.\n",
    "engine = sa.create_engine(\n",
    "    CONNECTION_STRING, \n",
    "    echo=sa.util.asbool(os.environ.get(\"DEBUG\", \"false\")))\n",
    "connection = engine.connect()"
   ]
  },
  {
   "cell_type": "markdown",
   "metadata": {},
   "source": [
    "## Create Tables\n",
    "\n",
    "Next, we'll create two tables as follows:\n",
    "\n",
    "* `windfarms`: Contains data about each wind farm, including geospatial data, the nunber, type and location of each turbine, and a free-text description providing an overview of the wind farm and its history.\n",
    "\n",
    "* `windfarm_output`: Hourly records for each wind farm containing details of the actual output for that hour and the percentage of the maximum output that the wind farm was operating at.\n",
    "\n",
    "Run the code below to create them, taking a moment to understand the table schemas."
   ]
  },
  {
   "cell_type": "code",
   "execution_count": null,
   "metadata": {},
   "outputs": [],
   "source": [
    "# Drop any previous version of the tables.\n",
    "_ = connection.execute(sa.text(\"DROP TABLE IF EXISTS windfarms;\"))\n",
    "_ = connection.execute(sa.text(\"DROP TABLE IF EXISTS windfarm_output;\"))\n",
    "\n",
    "# Create the tables.\n",
    "\n",
    "_= connection.execute(sa.text(\n",
    "\"\"\"\n",
    "    CREATE TABLE windfarms (\n",
    "        id TEXT PRIMARY KEY,\n",
    "        name TEXT,\n",
    "        description TEXT INDEX USING fulltext WITH (analyzer='english'),\n",
    "        location GEO_POINT,\n",
    "        territory TEXT,\n",
    "        boundaries GEO_SHAPE INDEX USING geohash WITH (PRECISION='1m', DISTANCE_ERROR_PCT=0.025),\n",
    "        turbines OBJECT(STRICT) AS (\n",
    "            brand TEXT,\n",
    "            model TEXT,\n",
    "            locations ARRAY(GEO_POINT),\n",
    "            howmany SMALLINT\n",
    "        ),\n",
    "        capacity DOUBLE PRECISION,\n",
    "        url TEXT\n",
    "    );\n",
    "\"\"\"    \n",
    "))\n",
    "\n",
    "_= connection.execute(sa.text(\n",
    "\"\"\"\n",
    "    CREATE TABLE windfarm_output (\n",
    "        windfarmid TEXT,\n",
    "        ts TIMESTAMP WITHOUT TIME ZONE,\n",
    "        day TIMESTAMP WITH TIME ZONE GENERATED ALWAYS AS date_trunc('day', ts),\n",
    "        output DOUBLE PRECISION,\n",
    "        outputpercentage DOUBLE PRECISION\n",
    "    ) PARTITIONED BY (day);\n",
    "\"\"\"    \n",
    "))"
   ]
  },
  {
   "cell_type": "markdown",
   "metadata": {},
   "source": [
    "TODO commentary on the table schemas."
   ]
  },
  {
   "cell_type": "markdown",
   "metadata": {},
   "source": [
    "## Loading the Data\n",
    "\n",
    "We'll load the data from files contained in the `cratedb-datasets` public GitHub repository.  There's one JSONL file for each table.  The file containing the hourly output data has been compressed.\n",
    "\n",
    "The code that follows populates each table in turn, using `COPY FROM` statements."
   ]
  },
  {
   "cell_type": "code",
   "execution_count": null,
   "metadata": {},
   "outputs": [],
   "source": [
    "def display_results(table_name, info):\n",
    "    print(f\"{table_name}: loaded {info['success_count']}, errors: {info['error_count']}\")\n",
    "\n",
    "    if info[\"error_count\"] > 0:\n",
    "        print(f\"Errors: {info['errors']}\")\n",
    "\n",
    "\n",
    "# Load the wind farm data.\n",
    "result = connection.execute(sa.text(\"\"\"\n",
    "    COPY windfarms \n",
    "    FROM 'https://github.com/crate/cratedb-datasets/raw/main/devrel/uk-offshore-wind-farm-data/wind_farms.json'\n",
    "    RETURN SUMMARY;\n",
    "\"\"\"))\n",
    "\n",
    "display_results(\"windfarms\", result.mappings().first())"
   ]
  },
  {
   "cell_type": "code",
   "execution_count": null,
   "metadata": {},
   "outputs": [],
   "source": [
    "# Load the wind farm output data.\n",
    "result = connection.execute(sa.text(\"\"\"\n",
    "    COPY windfarm_output\n",
    "    FROM 'https://github.com/crate/cratedb-datasets/raw/main/devrel/uk-offshore-wind-farm-data/wind_farm_output.json.gz' \n",
    "    WITH (compression='gzip')\n",
    "    RETURN SUMMARY;\n",
    "\"\"\"))\n",
    "\n",
    "display_results(\"windfarm_data\", result.mappings().first())"
   ]
  },
  {
   "cell_type": "markdown",
   "metadata": {},
   "source": [
    "Once the data's located, verify that the output shows 0 errors for each table.  Next, we'll run `REFRESH` and `ANALYZE` commands to make sure that the data's ready for immediate querying.  This isn't normally necessary as CrateDB will perform these tasks automatically in the background.  We're invoking them manually here to ensure that everyone in the workshop is on the same page at the same time."
   ]
  },
  {
   "cell_type": "code",
   "execution_count": null,
   "metadata": {},
   "outputs": [],
   "source": [
    "_ = connection.execute(sa.text(\"REFRESH TABLE windfarms, windfarm_output\"))\n",
    "_ = connection.execute(sa.text(\"ANALYZE\"))"
   ]
  },
  {
   "cell_type": "markdown",
   "metadata": {},
   "source": [
    "TODO... the bulk of the query examples content!"
   ]
  },
  {
   "cell_type": "markdown",
   "metadata": {},
   "source": [
    "## Continue your Learning Journey\n",
    "\n",
    "To learn more about CrateDB, sign up for our free courses at the CrateDB Academy.  We recommend the [CrateDB Fundamentals course](https://learn.cratedb.com/cratedb-fundamentals) for a comprehensive overview, and our [Advanced Time Series course](https://learn.cratedb.com/time-series) for a deep dive into time series data modelling, queries and aggregations."
   ]
  }
 ],
 "metadata": {
  "kernelspec": {
   "display_name": "venv",
   "language": "python",
   "name": "python3"
  },
  "language_info": {
   "codemirror_mode": {
    "name": "ipython",
    "version": 3
   },
   "file_extension": ".py",
   "mimetype": "text/x-python",
   "name": "python",
   "nbconvert_exporter": "python",
   "pygments_lexer": "ipython3",
   "version": "3.12.2"
  }
 },
 "nbformat": 4,
 "nbformat_minor": 2
}
